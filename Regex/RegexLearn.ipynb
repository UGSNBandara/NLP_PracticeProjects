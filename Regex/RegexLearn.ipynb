{
 "cells": [
  {
   "cell_type": "code",
   "execution_count": 1,
   "id": "9eea5959-217a-4ec3-99ef-a65aaa3f69a5",
   "metadata": {},
   "outputs": [],
   "source": [
    "import re"
   ]
  },
  {
   "cell_type": "code",
   "execution_count": 2,
   "id": "15f16bb0-f5ca-4018-a842-f21853ca54ff",
   "metadata": {},
   "outputs": [],
   "source": [
    "text = '''\n",
    "Hello this is my monthly income and Let do this together and make it multiple by *10. \n",
    "This is my pone number: 0714262972, and my cousin's : (071)-4262-972\n",
    "'''\n",
    "\n",
    "pattern = '\\(\\d{3}\\)-\\d{4}-\\d{3}|\\d{10}'\n",
    "\n",
    "matches = re.findall(pattern, text)"
   ]
  },
  {
   "cell_type": "code",
   "execution_count": 3,
   "id": "1d251dac-25ee-4300-9ea3-c431f704931c",
   "metadata": {},
   "outputs": [
    {
     "data": {
      "text/plain": [
       "['0714262972', '(071)-4262-972']"
      ]
     },
     "execution_count": 3,
     "metadata": {},
     "output_type": "execute_result"
    }
   ],
   "source": [
    "matches"
   ]
  },
  {
   "cell_type": "code",
   "execution_count": 4,
   "id": "4d7536fc-bc98-432c-9b24-fbdf8dd1c76e",
   "metadata": {},
   "outputs": [
    {
     "data": {
      "text/plain": [
       "['Introduction to Machine Learning',\n",
       " 'Types of Machine Learning',\n",
       " 'Real-World Applications of Machine Learning',\n",
       " 'Challenges in Machine Learning',\n",
       " 'Conclusion']"
      ]
     },
     "execution_count": 4,
     "metadata": {},
     "output_type": "execute_result"
    }
   ],
   "source": [
    "text = '''\n",
    "1. Introduction to Machine Learning\n",
    "Machine Learning (ML) is a fascinating field of artificial intelligence (AI) that enables computers to learn and make decisions without being explicitly programmed. The concept revolves around creating algorithms that can analyze data, identify patterns, and predict outcomes.\n",
    "\n",
    "2. Types of Machine Learning\n",
    "Machine Learning can be categorized into three main types:\n",
    "\n",
    "2.1 Supervised Learning\n",
    "In supervised learning, the model is trained using labeled data. It learns to map inputs to desired outputs and is often used in applications like spam detection and image classification.\n",
    "\n",
    "2.2 Unsupervised Learning\n",
    "Unsupervised learning works with unlabeled data. It identifies hidden patterns and structures within the data, making it suitable for tasks like clustering and dimensionality reduction.\n",
    "\n",
    "2.3 Reinforcement Learning\n",
    "Reinforcement learning focuses on decision-making, where an agent learns to perform actions in an environment to maximize cumulative rewards. It is widely applied in robotics and game AI.\n",
    "\n",
    "3. Real-World Applications of Machine Learning\n",
    "ML has permeated various industries, revolutionizing how tasks are approached. For instance:\n",
    "\n",
    "Healthcare: ML algorithms are used to predict diseases, analyze medical images, and even assist in drug discovery.\n",
    "Finance: Fraud detection, credit scoring, and algorithmic trading heavily rely on machine learning techniques.\n",
    "Entertainment: Recommendation systems, such as those used by Netflix and Spotify, personalize user experiences through ML.\n",
    "4. Challenges in Machine Learning\n",
    "Despite its successes, ML has challenges, such as data privacy, ethical concerns, and the requirement for high-quality data. Additionally, creating models that generalize well to unseen data remains a key hurdle.\n",
    "\n",
    "5. Conclusion\n",
    "Machine Learning continues to shape the future, bringing unprecedented opportunities and challenges. As the field evolves, it holds the potential to solve complex problems and drive innovation in ways we can only imagine.\n",
    "'''\n",
    "\n",
    "pattern = '\\d. ([^\\n]*)'  ##() make them without 1. part\n",
    "\n",
    "topics = re.findall(pattern, text)\n",
    "topics"
   ]
  },
  {
   "cell_type": "code",
   "execution_count": 5,
   "id": "78438896-a767-42e8-83d5-d62ec5312040",
   "metadata": {},
   "outputs": [
    {
     "data": {
      "text/plain": [
       "['Supervised Learning', 'Unsupervised Learning', 'Reinforcement Learning']"
      ]
     },
     "execution_count": 5,
     "metadata": {},
     "output_type": "execute_result"
    }
   ],
   "source": [
    "subtopics = re.findall('\\d.\\d ([^\\n]*)', text)\n",
    "subtopics"
   ]
  },
  {
   "cell_type": "code",
   "execution_count": 6,
   "id": "1f290b4e-3148-498d-bee2-a59ddf2e8f3c",
   "metadata": {},
   "outputs": [
    {
     "data": {
      "text/plain": [
       "['FBI2345 I4', 'FBI2346 I5', 'FBI5678 I3', 'FBI1234 I2']"
      ]
     },
     "execution_count": 6,
     "metadata": {},
     "output_type": "execute_result"
    }
   ],
   "source": [
    "text = '''\n",
    "The Federal Bureau of Investigation has a unique system for managing cases, identified by specific codes. \n",
    "For instance, the case FBI2345 I4 involves investigating cybersecurity threats, while another case, FBI2346 I5, \n",
    "pertains to financial fraud. Occasionally, cases like FBI5678 I3, which deal with counter-terrorism, require special attention. \n",
    "The case codes, such as FBI9012 I7 or FBI1234 I2, follow a standard format to ensure uniformity. Each code comprises the prefix \"FBI,\" \n",
    "followed by a unique four-digit identifier and a suffix like \"I2\" or \"I5\" indicating the priority level of the case. and here some not important case codes\n",
    "FBI2024 I6, FBI2032 I8. and all codes between I level 1-5 are important. and some times due to the typing mistakes, some officers type code with lower case like this\n",
    "fbi2034 i4, fbI2345 i2, fbi3029 i8\n",
    "'''\n",
    "\n",
    "pattern = 'FBI\\d{4} I[1-5]'\n",
    "\n",
    "importantCodes = re.findall(pattern, text)\n",
    "importantCodes"
   ]
  },
  {
   "cell_type": "code",
   "execution_count": 7,
   "id": "51e0f572-43a9-4aeb-a0ab-b04e082fd9b9",
   "metadata": {},
   "outputs": [
    {
     "data": {
      "text/plain": [
       "['FBI9012 I7', 'FBI2024 I6', 'FBI2032 I8']"
      ]
     },
     "execution_count": 7,
     "metadata": {},
     "output_type": "execute_result"
    }
   ],
   "source": [
    "lessImportantCodes = re.findall('FBI\\d{4} I[6-9]', text)\n",
    "lessImportantCodes"
   ]
  },
  {
   "cell_type": "code",
   "execution_count": 8,
   "id": "48c2cd55-2c19-4b49-9356-77346dfddb63",
   "metadata": {},
   "outputs": [
    {
     "data": {
      "text/plain": [
       "['FBI2345 I4',\n",
       " 'FBI2346 I5',\n",
       " 'FBI5678 I3',\n",
       " 'FBI1234 I2',\n",
       " 'fbi2034 i4',\n",
       " 'fbI2345 i2']"
      ]
     },
     "execution_count": 8,
     "metadata": {},
     "output_type": "execute_result"
    }
   ],
   "source": [
    "# lets see how we can get the all codes including lower cased ones\n",
    "importantCodes = re.findall(pattern, text, flags=re.IGNORECASE)\n",
    "importantCodes"
   ]
  },
  {
   "cell_type": "code",
   "execution_count": 9,
   "id": "70b2aa0f-504c-4918-8a59-efd3cf8811e0",
   "metadata": {},
   "outputs": [
    {
     "data": {
      "text/plain": [
       "['FBI9012 I7', 'FBI2024 I6', 'FBI2032 I8', 'fbi3029 i8']"
      ]
     },
     "execution_count": 9,
     "metadata": {},
     "output_type": "execute_result"
    }
   ],
   "source": [
    "lessImportantCodes = re.findall('FBI\\d{4} I[6-9]', text, flags=re.IGNORECASE)\n",
    "lessImportantCodes"
   ]
  },
  {
   "cell_type": "code",
   "execution_count": 10,
   "id": "9428fa8b-d8e1-4cfd-be64-ffb899a8f2b8",
   "metadata": {},
   "outputs": [
    {
     "data": {
      "text/plain": [
       "['2345 I4', '2346 I5', '5678 I3', '1234 I2', '2034 i4', '2345 i2']"
      ]
     },
     "execution_count": 10,
     "metadata": {},
     "output_type": "execute_result"
    }
   ],
   "source": [
    "#lets extract them without the FBI Patr\n",
    "pattern = 'FBI(\\d{4} I[1-5])'\n",
    "importantCodes = re.findall(pattern, text, flags=re.IGNORECASE)\n",
    "importantCodes"
   ]
  },
  {
   "cell_type": "code",
   "execution_count": 11,
   "id": "631a1587-7030-4c40-b206-52ecf089ad96",
   "metadata": {},
   "outputs": [
    {
     "data": {
      "text/plain": [
       "['$4.98', '$1.50', '$235.25', '$19.99']"
      ]
     },
     "execution_count": 11,
     "metadata": {},
     "output_type": "execute_result"
    }
   ],
   "source": [
    "text = '''\n",
    "During the weekend sale, many items were available at discounted prices. \n",
    "A pack of batteries was sold for $4.98, while a wireless keyboard was marked down to $456.\n",
    "Some smaller items, like a notebook, were as cheap as $1.50. Larger electronics, such as a gaming monitor, \n",
    "were priced at $1,299.99. Customers were thrilled to find deals like headphones for just $89 and speakers for $235.25. \n",
    "Even household essentials, originally priced over $20, dropped to as low as $19.99 during the clearance.\n",
    "'''\n",
    "\n",
    "pattern = '\\$[0-9]*\\.\\d[0-9]*'\n",
    "\n",
    "money = re.findall(pattern, text)\n",
    "money"
   ]
  },
  {
   "cell_type": "code",
   "execution_count": 12,
   "id": "d59abed0-044c-400d-bde1-0ee0c229b5a4",
   "metadata": {},
   "outputs": [
    {
     "data": {
      "text/plain": [
       "['DLX12345', 'DLX54321', 'HM34567', 'HM87654', 'GB10203', 'LP93847']"
      ]
     },
     "execution_count": 12,
     "metadata": {},
     "output_type": "execute_result"
    }
   ],
   "source": [
    "text = '''\n",
    "During the festive sale, several deals were advertised with specific codes for easier tracking. \n",
    "For instance, deal DLX12345 offered a smartphone at $699.99, while deal DLX54321 reduced the price of \n",
    "a smartwatch to $199.50. Home appliances also had attractive offers, such as HM34567 for a washing machine \n",
    "at $1,299 and HM87654 for a refrigerator priced at $899. Some smaller gadgets, like earbuds under code GB10203, \n",
    "were available for just $49.99. Customers looking for laptops found deals like LP93847 offering premium models for $1,799.99. \n",
    "Every deal was tagged uniquely, \n",
    "ensuring easy identification and processing during checkout.\n",
    "'''\n",
    "\n",
    "pattern = '[A-Z]{2,3}\\d{5}'\n",
    "codes = re.findall(pattern, text)\n",
    "\n",
    "codes"
   ]
  },
  {
   "cell_type": "code",
   "execution_count": 13,
   "id": "1f36726e-4f77-4ed9-acb2-b231bbb80115",
   "metadata": {},
   "outputs": [
    {
     "data": {
      "text/plain": [
       "['$699.99', '$199.50', '$1,299', '$899', '$49.99', '$1,799.99']"
      ]
     },
     "execution_count": 13,
     "metadata": {},
     "output_type": "execute_result"
    }
   ],
   "source": [
    "pattern = '\\$[0-9,]+.[0-9]+'\n",
    "Amounts = re.findall(pattern, text)\n",
    "\n",
    "Amounts"
   ]
  },
  {
   "cell_type": "code",
   "execution_count": 14,
   "id": "820831d4-1b34-458f-803a-29746a90d25d",
   "metadata": {},
   "outputs": [
    {
     "data": {
      "text/plain": [
       "[('DLX12345', '699.99'),\n",
       " ('DLX54321', '199.50'),\n",
       " ('HM34567', '1,299'),\n",
       " ('HM87654', '899'),\n",
       " ('GB10203', '49.99'),\n",
       " ('LP93847', '1,799.99')]"
      ]
     },
     "execution_count": 14,
     "metadata": {},
     "output_type": "execute_result"
    }
   ],
   "source": [
    "#codes and prices together\n",
    "pattern = '([A-Z]{2,3}\\d{5})[^\\$]+\\$([0-9,]+.[0-9]+)'\n",
    "list = re.findall(pattern, text)\n",
    "\n",
    "list"
   ]
  },
  {
   "cell_type": "code",
   "execution_count": 15,
   "id": "1d4472fb-f6ba-452d-9182-85f0b5d723a3",
   "metadata": {},
   "outputs": [
    {
     "name": "stdout",
     "output_type": "stream",
     "text": [
      "Price of Code DLX12345 is $ 699.99 \n",
      "Price of Code DLX54321 is $ 199.50 \n",
      "Price of Code HM34567 is $ 1,299 \n",
      "Price of Code HM87654 is $ 899 \n",
      "Price of Code GB10203 is $ 49.99 \n",
      "Price of Code LP93847 is $ 1,799.99 \n"
     ]
    }
   ],
   "source": [
    "for x,y in list:\n",
    "    print(f\"Price of Code {x} is $ {y} \")"
   ]
  },
  {
   "cell_type": "code",
   "execution_count": null,
   "id": "e1f1548f-6f1c-45dc-8e0a-652a567e816f",
   "metadata": {},
   "outputs": [],
   "source": []
  }
 ],
 "metadata": {
  "kernelspec": {
   "display_name": "Python 3 (myenv)",
   "language": "python",
   "name": "myenv"
  },
  "language_info": {
   "codemirror_mode": {
    "name": "ipython",
    "version": 3
   },
   "file_extension": ".py",
   "mimetype": "text/x-python",
   "name": "python",
   "nbconvert_exporter": "python",
   "pygments_lexer": "ipython3",
   "version": "3.11.9"
  }
 },
 "nbformat": 4,
 "nbformat_minor": 5
}
