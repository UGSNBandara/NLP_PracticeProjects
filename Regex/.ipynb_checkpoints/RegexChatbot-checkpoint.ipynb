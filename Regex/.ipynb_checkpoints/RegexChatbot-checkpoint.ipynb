{
 "cells": [
  {
   "cell_type": "code",
   "execution_count": 18,
   "id": "74ce1438-5095-4bf9-902b-867755257b56",
   "metadata": {},
   "outputs": [],
   "source": [
    "import re"
   ]
  },
  {
   "cell_type": "code",
   "execution_count": 19,
   "id": "b0454537-d27d-4f4b-a397-9b118bde3f68",
   "metadata": {},
   "outputs": [],
   "source": [
    "chat1 = \"Hello this is my contact details; Pone Num : 0714262972, and E mail : sulithanb119@gmail.com\"\n",
    "chat2 = \"Whay are you asking somuch Questions ? nulakshastudy19@gmail.com, 071-4857952\"\n",
    "chat3 = \"0714262895 and hello123@gmail.com\""
   ]
  },
  {
   "cell_type": "code",
   "execution_count": 20,
   "id": "939e36ff-3c6c-42a0-bc35-5cae9f4142e6",
   "metadata": {},
   "outputs": [],
   "source": [
    "patternTP = '\\d{3}-\\d{7}|\\d{10}' \n",
    "patternEmail = '[a-zA-Z_1-9]*@[a-zA-Z1-9]*\\.com|[a-zA-Z_1-9]*@[a-zA-Z1-9]*\\.lk'\n",
    "\n",
    "chats = [chat1, chat2, chat3]"
   ]
  },
  {
   "cell_type": "code",
   "execution_count": 21,
   "id": "9f4d182a-87bd-43ba-9902-ffde3e0ea261",
   "metadata": {},
   "outputs": [
    {
     "name": "stdout",
     "output_type": "stream",
     "text": [
      "Pone number of chat 1 : 0714262972\n",
      "Email number of chat 1 : sulithanb119@gmail.com\n",
      "\n",
      "Pone number of chat 2 : 071-4857952\n",
      "Email number of chat 2 : nulakshastudy19@gmail.com\n",
      "\n",
      "Pone number of chat 3 : 0714262895\n",
      "Email number of chat 3 : hello123@gmail.com\n",
      "\n"
     ]
    }
   ],
   "source": [
    "i = 1;\n",
    "for x in chats:\n",
    "    print(f\"Pone number of chat {i} : {re.findall(patternTP, x)[0]}\")\n",
    "    print(f\"Email number of chat {i} : {re.findall(patternEmail, x)[0]}\\n\")\n",
    "    i+=1"
   ]
  },
  {
   "cell_type": "code",
   "execution_count": 22,
   "id": "42f96c63-f7ae-4aa8-bd74-7c72c912d107",
   "metadata": {},
   "outputs": [],
   "source": [
    "#second Question\n",
    "# What is your oder number which is having trouble or simmiler like?\n",
    "\n",
    "chat1 = \"My oder is 2340928\"\n",
    "chat2 = \"my oder number is 18762753\"\n",
    "chat3 = \"the oder number which i am struggeling is 268739829\"\n",
    "chat4 = \"my oder code was 2837927\""
   ]
  },
  {
   "cell_type": "code",
   "execution_count": 23,
   "id": "3107379c-321b-497f-b6ea-2c0cfc0f9d00",
   "metadata": {},
   "outputs": [],
   "source": [
    "oderPattern1 = 'oder[^\\d]*(\\d*)'\n",
    "\n",
    "chats = [chat1, chat2, chat3, chat4]"
   ]
  },
  {
   "cell_type": "code",
   "execution_count": 24,
   "id": "2d1ebb30-e6f2-4145-9c9e-fc7f5378707b",
   "metadata": {},
   "outputs": [
    {
     "name": "stdout",
     "output_type": "stream",
     "text": [
      "Oder nuber of chat 1 : 2340928\n",
      "\n",
      "Oder nuber of chat 2 : 18762753\n",
      "\n",
      "Oder nuber of chat 3 : 268739829\n",
      "\n",
      "Oder nuber of chat 4 : 2837927\n",
      "\n"
     ]
    }
   ],
   "source": [
    "i = 1\n",
    "for y in chats:\n",
    "    print(f\"Oder nuber of chat {i} : {re.findall(oderPattern1, y)[0]}\\n\")\n",
    "    i+=1"
   ]
  },
  {
   "cell_type": "code",
   "execution_count": 28,
   "id": "f2a71b7e-e17b-43f4-aafe-0948e5b28561",
   "metadata": {},
   "outputs": [],
   "source": [
    "text1 = '''\n",
    "Co-Chair of the Department of Government Efficiency\n",
    "Designate\n",
    "Assumed office\n",
    "TBD\n",
    "Serving with Vivek Ramaswamy\n",
    "President\tDonald Trump (elect)\n",
    "Preceded by\tPosition established\n",
    "Personal details\n",
    "Born\tElon Reeve Musk\n",
    "June 28, 1971 (age 53)\n",
    "Pretoria, Transvaal, South Africa\n",
    "Citizenship\t\n",
    "South Africa\n",
    "Canada\n",
    "United States (from 2002)\n",
    "Political party\tIndependent\n",
    "Spouses\t\n",
    "Justine Wilson\n",
    "​\n",
    "​(m. 2000; div. 2008)​\n",
    "Talulah Riley\n",
    "​\n",
    "​(m. 2010; div. 2012)​\n",
    "​\n",
    "​(m. 2013; div. 2016)​\n",
    "Children\t12[1]\n",
    "Parents\t\n",
    "Errol Musk\n",
    "Maye Musk\n",
    "Relatives\t\n",
    "Kimbal Musk (brother)\n",
    "Tosca Musk (sister)\n",
    "Lyndon Rive (cousin)\n",
    "Education\tUniversity of Pennsylvania (BA, BS)\n",
    "Occupation\tBusinessman\n",
    "Profession\t\n",
    "Founder, CEO, and chief engineer of SpaceX\n",
    "CEO and product architect of Tesla, Inc.\n",
    "Owner, CTO and executive chairman of X (formerly Twitter)\n",
    "President of the Musk Foundation\n",
    "Founder of The Boring Company, X Corp., and xAI\n",
    "Co-founder of Neuralink, OpenAI, Zip2, and X.com (part of PayPal)\n",
    "Awards\tFull list\n",
    "'''\n",
    "\n",
    "text2 = '''\n",
    "Official portrait, 2017\n",
    "President-elect of the United States\n",
    "Assuming office\n",
    "January 20, 2025\n",
    "Vice President\tJD Vance (elect)\n",
    "Succeeding\tJoe Biden\n",
    "45th President of the United States\n",
    "In office\n",
    "January 20, 2017 – January 20, 2021\n",
    "Vice President\tMike Pence\n",
    "Preceded by\tBarack Obama\n",
    "Succeeded by\tJoe Biden\n",
    "Personal details\n",
    "Born\tDonald John Trump\n",
    "June 14, 1946 (age 78)\n",
    "Queens, New York City, U.S.\n",
    "Political party\tRepublican (1987–1999; 2009–2011; 2012–present)\n",
    "Other political\n",
    "affiliations\t\n",
    "Reform (1999–2001)\n",
    "Democratic (2001–2009)\n",
    "Independent (2011–2012)\n",
    "Spouses\t\n",
    "Ivana Zelníčková\n",
    "​\n",
    "​(m. 1977; div. 1990)​\n",
    "Marla Maples\n",
    "​\n",
    "​(m. 1993; div. 1999)​\n",
    "Melania Knauss ​(m. 2005)​\n",
    "Children\t\n",
    "Donald Jr.IvankaEricTiffanyBarron\n",
    "Parents\t\n",
    "Mary Anne MacLeodFred Trump\n",
    "Relatives\tTrump family\n",
    "Education\tUniversity of Pennsylvania (BS)\n",
    "Occupation\t\n",
    "Politicianbusinessmanmedia personality\n",
    "Awards\tFull list\n",
    "'''\n",
    "\n",
    "text3 = '''\n",
    "Born\tMark Elliot Zuckerberg\n",
    "May 14, 1984 (age 40)\n",
    "White Plains, New York, U.S.\n",
    "Other names\tZuck\n",
    "Education\tHarvard University (dropped out)\n",
    "Occupations\t\n",
    "Businessmancomputer programmerphilanthropist\n",
    "Years active\t2004–present\n",
    "Title\t\n",
    "Co-founder, chairman and CEO of Meta Platforms and Facebook\n",
    "Co-founder and co-CEO of Chan Zuckerberg Initiative\n",
    "Spouse\tPriscilla Chan ​(m. 2012)​\n",
    "Children\t3\n",
    "Relatives\t\n",
    "Randi Zuckerberg (sister)\n",
    "Donna Zuckerberg (sister)\n",
    "'''"
   ]
  },
  {
   "cell_type": "code",
   "execution_count": 29,
   "id": "0e4a92f2-01e1-43f8-9199-5c1746bdc7a5",
   "metadata": {},
   "outputs": [],
   "source": [
    "agePattern = 'age (\\d+)'\n",
    "namePattern = 'Born(.*)'\n",
    "birthdayPattern = 'Born.*\\n(.*)\\('\n",
    "bornplacePattern = '\\(age.*\\n(.*)'"
   ]
  },
  {
   "cell_type": "code",
   "execution_count": 30,
   "id": "9fd202f0-19bd-4106-b780-523c7aef4346",
   "metadata": {},
   "outputs": [],
   "source": [
    "texts = [text1, text2, text3]"
   ]
  },
  {
   "cell_type": "code",
   "execution_count": 31,
   "id": "3da8b79e-fd19-4b90-8e50-6e0b02c5ccc0",
   "metadata": {},
   "outputs": [
    {
     "name": "stdout",
     "output_type": "stream",
     "text": [
      "Text 1\n",
      "Name : \tElon Reeve Musk\n",
      "Age : 53\n",
      "Birthday : June 28, 1971 \n",
      "Birth Place : Pretoria, Transvaal, South Africa\n",
      "\n",
      "\n",
      "Text 2\n",
      "Name : \tDonald John Trump\n",
      "Age : 78\n",
      "Birthday : June 14, 1946 \n",
      "Birth Place : Queens, New York City, U.S.\n",
      "\n",
      "\n",
      "Text 3\n",
      "Name : \tMark Elliot Zuckerberg\n",
      "Age : 40\n",
      "Birthday : May 14, 1984 \n",
      "Birth Place : White Plains, New York, U.S.\n",
      "\n",
      "\n"
     ]
    }
   ],
   "source": [
    "i =1;\n",
    "for t in texts:\n",
    "    print(f\"Text {i}\")\n",
    "    print(f\"Name : {re.findall(namePattern, t)[0]}\")\n",
    "    print(f\"Age : {re.findall(agePattern, t)[0]}\")\n",
    "    print(f\"Birthday : {re.findall(birthdayPattern, t)[0]}\")\n",
    "    print(f\"Birth Place : {re.findall(bornplacePattern, t)[0]}\\n\\n\")\n",
    "    \n",
    "    i+=1"
   ]
  },
  {
   "cell_type": "code",
   "execution_count": null,
   "id": "fa694e39-3481-4097-bfb1-29054f125e05",
   "metadata": {},
   "outputs": [],
   "source": []
  }
 ],
 "metadata": {
  "kernelspec": {
   "display_name": "Python 3 (myenv)",
   "language": "python",
   "name": "myenv"
  },
  "language_info": {
   "codemirror_mode": {
    "name": "ipython",
    "version": 3
   },
   "file_extension": ".py",
   "mimetype": "text/x-python",
   "name": "python",
   "nbconvert_exporter": "python",
   "pygments_lexer": "ipython3",
   "version": "3.11.9"
  }
 },
 "nbformat": 4,
 "nbformat_minor": 5
}
